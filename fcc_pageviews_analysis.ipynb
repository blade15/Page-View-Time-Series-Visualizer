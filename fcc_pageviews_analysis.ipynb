{
 "cells": [
  {
   "cell_type": "code",
   "execution_count": null,
   "id": "f15a4177",
   "metadata": {},
   "outputs": [],
   "source": [
    "\n",
    "import pandas as pd\n",
    "import matplotlib.pyplot as plt\n",
    "import seaborn as sns\n",
    "\n",
    "# Load and clean the data\n",
    "df = pd.read_csv(\"fcc-forum-pageviews.csv\", parse_dates=['date'], index_col='date')\n",
    "df = df[(df['value'] >= df['value'].quantile(0.025)) & (df['value'] <= df['value'].quantile(0.975))]\n",
    "df.head()\n"
   ]
  },
  {
   "cell_type": "code",
   "execution_count": null,
   "id": "58db87cf",
   "metadata": {},
   "outputs": [],
   "source": [
    "\n",
    "def draw_line_plot():\n",
    "    df_line = df.copy()\n",
    "    fig, ax = plt.subplots(figsize=(15, 6))\n",
    "    ax.plot(df_line.index, df_line['value'], color='red', linewidth=1)\n",
    "    ax.set_title(\"Daily freeCodeCamp Forum Page Views 5/2016-12/2019\")\n",
    "    ax.set_xlabel(\"Date\")\n",
    "    ax.set_ylabel(\"Page Views\")\n",
    "    return fig\n",
    "\n",
    "draw_line_plot()\n",
    "plt.show()\n"
   ]
  },
  {
   "cell_type": "code",
   "execution_count": null,
   "id": "c936293e",
   "metadata": {},
   "outputs": [],
   "source": [
    "\n",
    "def draw_bar_plot():\n",
    "    df_bar = df.copy()\n",
    "    df_bar['year'] = df_bar.index.year\n",
    "    df_bar['month'] = df_bar.index.strftime('%B')\n",
    "    df_grouped = df_bar.groupby(['year', 'month'])['value'].mean().unstack()\n",
    "    month_order = ['January', 'February', 'March', 'April', 'May', 'June',\n",
    "                   'July', 'August', 'September', 'October', 'November', 'December']\n",
    "    df_grouped = df_grouped[month_order]\n",
    "    fig = df_grouped.plot(kind='bar', figsize=(15, 8)).figure\n",
    "    plt.xlabel(\"Years\")\n",
    "    plt.ylabel(\"Average Page Views\")\n",
    "    plt.title(\"Average Daily Page Views per Month\")\n",
    "    plt.legend(title=\"Months\")\n",
    "    plt.tight_layout()\n",
    "    return fig\n",
    "\n",
    "draw_bar_plot()\n",
    "plt.show()\n"
   ]
  },
  {
   "cell_type": "code",
   "execution_count": null,
   "id": "25634953",
   "metadata": {},
   "outputs": [],
   "source": [
    "\n",
    "def draw_box_plot():\n",
    "    df_box = df.copy().reset_index()\n",
    "    df_box['year'] = df_box['date'].dt.year\n",
    "    df_box['month'] = df_box['date'].dt.strftime('%b')\n",
    "    df_box['month_num'] = df_box['date'].dt.month\n",
    "    df_box = df_box.sort_values('month_num')\n",
    "\n",
    "    fig, axes = plt.subplots(1, 2, figsize=(18, 6))\n",
    "    sns.boxplot(x='year', y='value', data=df_box, ax=axes[0])\n",
    "    axes[0].set_title(\"Year-wise Box Plot (Trend)\")\n",
    "    axes[0].set_xlabel(\"Year\")\n",
    "    axes[0].set_ylabel(\"Page Views\")\n",
    "\n",
    "    sns.boxplot(x='month', y='value', data=df_box, ax=axes[1])\n",
    "    axes[1].set_title(\"Month-wise Box Plot (Seasonality)\")\n",
    "    axes[1].set_xlabel(\"Month\")\n",
    "    axes[1].set_ylabel(\"Page Views\")\n",
    "\n",
    "    plt.tight_layout()\n",
    "    return fig\n",
    "\n",
    "draw_box_plot()\n",
    "plt.show()\n"
   ]
  }
 ],
 "metadata": {},
 "nbformat": 4,
 "nbformat_minor": 5
}
